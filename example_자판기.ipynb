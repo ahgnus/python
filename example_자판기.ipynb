{
 "cells": [
  {
   "cell_type": "code",
   "execution_count": 1,
   "id": "6406e612",
   "metadata": {},
   "outputs": [
    {
     "name": "stdout",
     "output_type": "stream",
     "text": [
      "음료수 자판기 입니다\n",
      "실행할 모드를 입력하세요:0\n",
      "다시 입력하세요\n",
      "실행할 모드를 입력하세요:1\n",
      "다시 입력하세요\n"
     ]
    },
    {
     "ename": "KeyboardInterrupt",
     "evalue": "Interrupted by user",
     "output_type": "error",
     "traceback": [
      "\u001b[0;31m---------------------------------------------------------------------------\u001b[0m",
      "\u001b[0;31mKeyboardInterrupt\u001b[0m                         Traceback (most recent call last)",
      "\u001b[0;32m/tmp/ipykernel_176/3065873921.py\u001b[0m in \u001b[0;36m<module>\u001b[0;34m\u001b[0m\n\u001b[1;32m      1\u001b[0m \u001b[0mprint\u001b[0m\u001b[0;34m(\u001b[0m\u001b[0;34m'음료수 자판기 입니다'\u001b[0m\u001b[0;34m)\u001b[0m\u001b[0;34m\u001b[0m\u001b[0;34m\u001b[0m\u001b[0m\n\u001b[1;32m      2\u001b[0m \u001b[0;32mwhile\u001b[0m \u001b[0;32mTrue\u001b[0m\u001b[0;34m:\u001b[0m\u001b[0;34m\u001b[0m\u001b[0;34m\u001b[0m\u001b[0m\n\u001b[0;32m----> 3\u001b[0;31m     \u001b[0mfirst_page\u001b[0m \u001b[0;34m=\u001b[0m \u001b[0minput\u001b[0m\u001b[0;34m(\u001b[0m\u001b[0;34m'실행할 모드를 입력하세요:'\u001b[0m\u001b[0;34m)\u001b[0m\u001b[0;34m\u001b[0m\u001b[0;34m\u001b[0m\u001b[0m\n\u001b[0m\u001b[1;32m      4\u001b[0m     \u001b[0;32mif\u001b[0m \u001b[0mfirst_page\u001b[0m \u001b[0;34m==\u001b[0m \u001b[0;36m0\u001b[0m\u001b[0;34m:\u001b[0m\u001b[0;34m\u001b[0m\u001b[0;34m\u001b[0m\u001b[0m\n\u001b[1;32m      5\u001b[0m         \u001b[0;32mbreak\u001b[0m\u001b[0;34m\u001b[0m\u001b[0;34m\u001b[0m\u001b[0m\n",
      "\u001b[0;32m/opt/conda/lib/python3.9/site-packages/ipykernel/kernelbase.py\u001b[0m in \u001b[0;36mraw_input\u001b[0;34m(self, prompt)\u001b[0m\n\u001b[1;32m   1073\u001b[0m                 \u001b[0;34m\"raw_input was called, but this frontend does not support input requests.\"\u001b[0m\u001b[0;34m\u001b[0m\u001b[0;34m\u001b[0m\u001b[0m\n\u001b[1;32m   1074\u001b[0m             )\n\u001b[0;32m-> 1075\u001b[0;31m         return self._input_request(\n\u001b[0m\u001b[1;32m   1076\u001b[0m             \u001b[0mstr\u001b[0m\u001b[0;34m(\u001b[0m\u001b[0mprompt\u001b[0m\u001b[0;34m)\u001b[0m\u001b[0;34m,\u001b[0m\u001b[0;34m\u001b[0m\u001b[0;34m\u001b[0m\u001b[0m\n\u001b[1;32m   1077\u001b[0m             \u001b[0mself\u001b[0m\u001b[0;34m.\u001b[0m\u001b[0m_parent_ident\u001b[0m\u001b[0;34m[\u001b[0m\u001b[0;34m\"shell\"\u001b[0m\u001b[0;34m]\u001b[0m\u001b[0;34m,\u001b[0m\u001b[0;34m\u001b[0m\u001b[0;34m\u001b[0m\u001b[0m\n",
      "\u001b[0;32m/opt/conda/lib/python3.9/site-packages/ipykernel/kernelbase.py\u001b[0m in \u001b[0;36m_input_request\u001b[0;34m(self, prompt, ident, parent, password)\u001b[0m\n\u001b[1;32m   1118\u001b[0m             \u001b[0;32mexcept\u001b[0m \u001b[0mKeyboardInterrupt\u001b[0m\u001b[0;34m:\u001b[0m\u001b[0;34m\u001b[0m\u001b[0;34m\u001b[0m\u001b[0m\n\u001b[1;32m   1119\u001b[0m                 \u001b[0;31m# re-raise KeyboardInterrupt, to truncate traceback\u001b[0m\u001b[0;34m\u001b[0m\u001b[0;34m\u001b[0m\u001b[0m\n\u001b[0;32m-> 1120\u001b[0;31m                 \u001b[0;32mraise\u001b[0m \u001b[0mKeyboardInterrupt\u001b[0m\u001b[0;34m(\u001b[0m\u001b[0;34m\"Interrupted by user\"\u001b[0m\u001b[0;34m)\u001b[0m \u001b[0;32mfrom\u001b[0m \u001b[0;32mNone\u001b[0m\u001b[0;34m\u001b[0m\u001b[0;34m\u001b[0m\u001b[0m\n\u001b[0m\u001b[1;32m   1121\u001b[0m             \u001b[0;32mexcept\u001b[0m \u001b[0mException\u001b[0m\u001b[0;34m:\u001b[0m\u001b[0;34m\u001b[0m\u001b[0;34m\u001b[0m\u001b[0m\n\u001b[1;32m   1122\u001b[0m                 \u001b[0mself\u001b[0m\u001b[0;34m.\u001b[0m\u001b[0mlog\u001b[0m\u001b[0;34m.\u001b[0m\u001b[0mwarning\u001b[0m\u001b[0;34m(\u001b[0m\u001b[0;34m\"Invalid Message:\"\u001b[0m\u001b[0;34m,\u001b[0m \u001b[0mexc_info\u001b[0m\u001b[0;34m=\u001b[0m\u001b[0;32mTrue\u001b[0m\u001b[0;34m)\u001b[0m\u001b[0;34m\u001b[0m\u001b[0;34m\u001b[0m\u001b[0m\n",
      "\u001b[0;31mKeyboardInterrupt\u001b[0m: Interrupted by user"
     ]
    }
   ],
   "source": [
    "print('음료수 자판기 입니다')\n",
    "while True:\n",
    "    first_page = input('실행할 모드를 입력하세요:')\n",
    "    if first_page == 0:\n",
    "        break\n",
    "    elif first_page == 1:\n",
    "        pass\n",
    "    elif first_page == 2:\n",
    "        pass\n",
    "    elif first_page == 9999:\n",
    "        pass\n",
    "    else:\n",
    "        print('다시 입력하세요')"
   ]
  },
  {
   "cell_type": "code",
   "execution_count": 2,
   "id": "1181d9c4",
   "metadata": {},
   "outputs": [
    {
     "name": "stdout",
     "output_type": "stream",
     "text": [
      "1\n"
     ]
    },
    {
     "data": {
      "text/plain": [
       "str"
      ]
     },
     "execution_count": 2,
     "metadata": {},
     "output_type": "execute_result"
    }
   ],
   "source": [
    "type(input())\n",
    "# input() type을 int로 바꿔줌"
   ]
  },
  {
   "cell_type": "code",
   "execution_count": 5,
   "id": "68e92743",
   "metadata": {},
   "outputs": [
    {
     "name": "stdout",
     "output_type": "stream",
     "text": [
      "음료수 자판기 입니다\n",
      "실행할 모드를 입력하세요:1\n",
      "실행할 모드를 입력하세요:2\n",
      "실행할 모드를 입력하세요:3\n",
      "다시 입력하세요\n",
      "실행할 모드를 입력하세요:9999\n",
      "실행할 모드를 입력하세요:0\n"
     ]
    }
   ],
   "source": [
    "print('음료수 자판기 입니다')\n",
    "while True:\n",
    "    first_page = int(input('실행할 모드를 입력하세요:'))\n",
    "    if first_page == 0:\n",
    "        break\n",
    "    elif first_page == 1:\n",
    "        pass\n",
    "    elif first_page == 2:\n",
    "        pass\n",
    "    elif first_page == 9999:\n",
    "        pass\n",
    "    else:\n",
    "        print('다시 입력하세요')\n",
    "        "
   ]
  },
  {
   "cell_type": "markdown",
   "id": "9d4ac987",
   "metadata": {},
   "source": [
    "print({'환타':\"'\\'1,000\", '콜라':\"'\\' 1,500\", '사이다':\"'\\' 2,000\"})"
   ]
  },
  {
   "cell_type": "code",
   "execution_count": 6,
   "id": "0de15342",
   "metadata": {},
   "outputs": [
    {
     "name": "stdout",
     "output_type": "stream",
     "text": [
      "{'환타': \"''1,000\", '콜라': \"'' 1,500\", '사이다': \"'' 2,000\"}\n"
     ]
    }
   ],
   "source": [
    "print({'환타':\"'\\'1,000\", '콜라':\"'\\' 1,500\", '사이다':\"'\\' 2,000\"})"
   ]
  },
  {
   "cell_type": "code",
   "execution_count": 7,
   "id": "451d84b1",
   "metadata": {},
   "outputs": [
    {
     "name": "stdout",
     "output_type": "stream",
     "text": [
      "{'환타': '\\\\1,000', '콜라': '\\\\1,500', '사이다': '\\\\2,000'}\n"
     ]
    }
   ],
   "source": [
    "print({'환타':\"\\\\1,000\", '콜라':\"\\\\1,500\", '사이다':\"\\\\2,000\"})"
   ]
  },
  {
   "cell_type": "code",
   "execution_count": 8,
   "id": "a0061e73",
   "metadata": {},
   "outputs": [
    {
     "name": "stdout",
     "output_type": "stream",
     "text": [
      "{'환타': '\\\\ 1,000', '콜라': '\\\\ 1,500', '사이다': '\\\\ 2,000'}\n"
     ]
    }
   ],
   "source": [
    "print({'환타':\"\\ 1,000\", '콜라':\"\\ 1,500\", '사이다':\"\\ 2,000\"})"
   ]
  },
  {
   "cell_type": "code",
   "execution_count": 10,
   "id": "4b8ebdda",
   "metadata": {},
   "outputs": [
    {
     "name": "stdout",
     "output_type": "stream",
     "text": [
      "{'환타': '￦ 1,000', '콜라': '￦ 1,500', '사이다': '￦ 2,000'}\n"
     ]
    }
   ],
   "source": [
    "print({'환타':\"￦ 1,000\", '콜라':\"￦ 1,500\", '사이다':\"￦ 2,000\"})\n",
    "\n",
    "# ㄹ + 한자 3 의 ￦을 사용함"
   ]
  },
  {
   "cell_type": "code",
   "execution_count": 13,
   "id": "c0c2194b",
   "metadata": {},
   "outputs": [
    {
     "name": "stdout",
     "output_type": "stream",
     "text": [
      "{'환타': 1000, '콜라': 1500, '사이다': 2000}\n",
      "금액을 넣어 주세요 :1000\n",
      "음료를 골라 주세요 :환타\n"
     ]
    }
   ],
   "source": [
    "drink_dic = {'환타': 1000, '콜라': 1500, '사이다': 2000}\n",
    "print(drink_dic)\n",
    "money = input('금액을 넣어 주세요 :')\n",
    "money_balnce = int(money)\n",
    "drink_name = input('음료를 골라 주세요 :')\n",
    "    \n"
   ]
  },
  {
   "cell_type": "code",
   "execution_count": 15,
   "id": "c5ace22e",
   "metadata": {},
   "outputs": [
    {
     "name": "stdout",
     "output_type": "stream",
     "text": [
      "금액을 넣어 주세요 :2\n",
      "음료를 골라 주세요 :3\n"
     ]
    }
   ],
   "source": [
    "drink_dic = {'환타': 1000, '콜라': 1500, '사이다': 2000}\n",
    "money = input('금액을 넣어 주세요 :')\n",
    "money_balnce = int(money)\n",
    "drink_name = input('음료를 골라 주세요 :')\n"
   ]
  },
  {
   "cell_type": "code",
   "execution_count": 22,
   "id": "cfff978c",
   "metadata": {},
   "outputs": [
    {
     "name": "stdout",
     "output_type": "stream",
     "text": [
      "1 환타 ￦ 1000\n",
      "2 콜라 ￦ 1500\n",
      "3 사이다 ￦ 2000\n",
      "금액을 넣어 주세요 :333333\n",
      "음료를 골라 주세요 :1\n"
     ]
    }
   ],
   "source": [
    "drink_dic = {'환타': 1000, '콜라': 1500, '사이다': 2000}\n",
    "default = 1\n",
    "for k, v in drink_dic.items():\n",
    "    print(default, k, '￦', v)\n",
    "    default += 1\n",
    "money = input('금액을 넣어 주세요 :')\n",
    "money_balnce = int(money)\n",
    "drink_name = input('음료를 골라 주세요 :')"
   ]
  },
  {
   "cell_type": "code",
   "execution_count": 24,
   "id": "5de6d418",
   "metadata": {},
   "outputs": [
    {
     "name": "stdout",
     "output_type": "stream",
     "text": [
      "1 환타 ￦ 1000\n",
      "2 콜라 ￦ 1500\n",
      "3 사이다 ￦ 2000\n",
      "금액을 넣어 주세요 :1000\n",
      "음료를 골라 주세요 :1\n",
      "개수를 정해 주세요 :3\n",
      "잔액이 부족합니다\n",
      "1000\n"
     ]
    }
   ],
   "source": [
    "drink_dic = {'환타': 1000, '콜라': 1500, '사이다': 2000}\n",
    "default = 1\n",
    "for k, v in drink_dic.items():\n",
    "    print(default, k, '￦', v)\n",
    "    default += 1\n",
    "money = input('금액을 넣어 주세요 :')\n",
    "money_balance = int(money)\n",
    "drink_name = input('음료를 골라 주세요 :')\n",
    "drink_count = int(input('개수를 정해 주세요 :'))\n",
    "net_m = v*drink_count\n",
    "if money_balance - net_m >= 0:\n",
    "    money_balance = money_balance - net_m\n",
    "else:\n",
    "    print('잔액이 부족합니다')\n",
    "print(money_balance)"
   ]
  },
  {
   "cell_type": "code",
   "execution_count": 25,
   "id": "f004df8a",
   "metadata": {},
   "outputs": [
    {
     "name": "stdout",
     "output_type": "stream",
     "text": [
      "1 환타 ￦ 1000\n",
      "2 콜라 ￦ 1500\n",
      "3 사이다 ￦ 2000\n",
      "금액을 넣어 주세요 :1\n",
      "음료를 골라 주세요 :3\n",
      "개수를 정해 주세요 :4\n",
      "잔액이 부족합니다\n",
      "잔액 : 1 "
     ]
    }
   ],
   "source": [
    "drink_dic = {'환타': 1000, '콜라': 1500, '사이다': 2000}\n",
    "default = 1\n",
    "for k, v in drink_dic.items():\n",
    "    print(default, k, '￦', v)\n",
    "    default += 1\n",
    "money = input('금액을 넣어 주세요 :')\n",
    "money_balance = int(money)\n",
    "drink_name = input('음료를 골라 주세요 :')\n",
    "drink_count = int(input('개수를 정해 주세요 :'))\n",
    "net_m = v*drink_count\n",
    "if money_balance - net_m >= 0:\n",
    "    money_balance = money_balance - net_m\n",
    "else:\n",
    "    print('잔액이 부족합니다')\n",
    "print('잔액 :', money_balance, end=' ')"
   ]
  },
  {
   "cell_type": "code",
   "execution_count": 37,
   "id": "6ebea847",
   "metadata": {},
   "outputs": [
    {
     "name": "stdout",
     "output_type": "stream",
     "text": [
      "1 환타 ￦ 1000\n",
      "2 콜라 ￦ 1500\n",
      "3 사이다 ￦ 2000\n",
      "금액을 넣어 주세요 :2000\n",
      "음료를 골라 주세요 :1\n",
      "개수를 정해 주세요 :1\n",
      "잔액 : 1000 "
     ]
    }
   ],
   "source": [
    "drink_dic = {'환타': 1000, '콜라': 1500, '사이다': 2000}\n",
    "drink_dic2 = [0, 1000, 1500, 2000]\n",
    "\n",
    "i = 1\n",
    "for k, v in drink_dic.items():\n",
    "    print(i, k, '￦', v)\n",
    "    i += 1\n",
    "    \n",
    "money = input('금액을 넣어 주세요 :')\n",
    "money_balance = int(money)\n",
    "drink_name = int(input('음료를 골라 주세요 :'))\n",
    "drink_cost = drink_dic2[drink_name]\n",
    "drink_count = int(input('개수를 정해 주세요 :'))\n",
    "\n",
    "net_cost = drink_cost*drink_count\n",
    "if money_balance - net_cost >= 0:\n",
    "    money_balance = money_balance - net_cost\n",
    "else:\n",
    "    print('잔액이 부족합니다')\n",
    "print('잔액 :', money_balance, end=' ')"
   ]
  },
  {
   "cell_type": "code",
   "execution_count": 33,
   "id": "a59ba484",
   "metadata": {},
   "outputs": [
    {
     "data": {
      "text/plain": [
       "str"
      ]
     },
     "execution_count": 33,
     "metadata": {},
     "output_type": "execute_result"
    }
   ],
   "source": [
    "type(drink_name)"
   ]
  },
  {
   "cell_type": "code",
   "execution_count": 38,
   "id": "e23914ec",
   "metadata": {},
   "outputs": [
    {
     "name": "stdout",
     "output_type": "stream",
     "text": [
      "1 환타 ￦ 1000\n",
      "2 콜라 ￦ 1500\n",
      "3 사이다 ￦ 2000\n",
      "금액을 넣어 주세요 :1\n",
      "음료를 골라 주세요 :1\n",
      "개수를 정해 주세요 :1\n",
      "잔액이 부족합니다\n",
      "잔액 : 1 "
     ]
    }
   ],
   "source": [
    "drink_dic = {'환타': 1000, '콜라': 1500, '사이다': 2000}\n",
    "drink_dic2 = [0, 1000, 1500, 2000]\n",
    "\n",
    "i = 1\n",
    "for k, v in drink_dic.items():\n",
    "    print(i, k, '￦', v)\n",
    "    i += 1\n",
    "    \n",
    "money = input('금액을 넣어 주세요 :')\n",
    "money_balance = int(money)\n",
    "drink_name = int(input('음료를 골라 주세요 :'))\n",
    "drink_cost = drink_dic2[drink_name]\n",
    "drink_count = int(input('개수를 정해 주세요 :'))\n",
    "\n",
    "net_cost = drink_cost*drink_count\n",
    "if money_balance - net_cost >= 0:\n",
    "    money_balance = money_balance - net_cost\n",
    "else:\n",
    "    print('잔액이 부족합니다')\n",
    "print('잔액 :', money_balance, end=' ')"
   ]
  },
  {
   "cell_type": "code",
   "execution_count": 39,
   "id": "2c617939",
   "metadata": {},
   "outputs": [
    {
     "name": "stdout",
     "output_type": "stream",
     "text": [
      "음료수 자판기 입니다\n",
      "실행할 모드를 입력하세요:1\n",
      "1 환타 ￦ 1000\n",
      "2 콜라 ￦ 1500\n",
      "3 사이다 ￦ 2000\n",
      "금액을 넣어 주세요 :5000\n",
      "음료를 골라 주세요 :2\n",
      "개수를 정해 주세요 :3\n",
      "잔액 : 500 "
     ]
    },
    {
     "ename": "KeyboardInterrupt",
     "evalue": "Interrupted by user",
     "output_type": "error",
     "traceback": [
      "\u001b[0;31m---------------------------------------------------------------------------\u001b[0m",
      "\u001b[0;31mKeyboardInterrupt\u001b[0m                         Traceback (most recent call last)",
      "\u001b[0;32m/tmp/ipykernel_176/2551003459.py\u001b[0m in \u001b[0;36m<module>\u001b[0;34m\u001b[0m\n\u001b[1;32m      3\u001b[0m \u001b[0mprint\u001b[0m\u001b[0;34m(\u001b[0m\u001b[0;34m'음료수 자판기 입니다'\u001b[0m\u001b[0;34m)\u001b[0m\u001b[0;34m\u001b[0m\u001b[0;34m\u001b[0m\u001b[0m\n\u001b[1;32m      4\u001b[0m \u001b[0;32mwhile\u001b[0m \u001b[0;32mTrue\u001b[0m\u001b[0;34m:\u001b[0m\u001b[0;34m\u001b[0m\u001b[0;34m\u001b[0m\u001b[0m\n\u001b[0;32m----> 5\u001b[0;31m     \u001b[0mfirst_page\u001b[0m \u001b[0;34m=\u001b[0m \u001b[0mint\u001b[0m\u001b[0;34m(\u001b[0m\u001b[0minput\u001b[0m\u001b[0;34m(\u001b[0m\u001b[0;34m'실행할 모드를 입력하세요:'\u001b[0m\u001b[0;34m)\u001b[0m\u001b[0;34m)\u001b[0m\u001b[0;34m\u001b[0m\u001b[0;34m\u001b[0m\u001b[0m\n\u001b[0m\u001b[1;32m      6\u001b[0m     \u001b[0;32mif\u001b[0m \u001b[0mfirst_page\u001b[0m \u001b[0;34m==\u001b[0m \u001b[0;36m0\u001b[0m\u001b[0;34m:\u001b[0m\u001b[0;34m\u001b[0m\u001b[0;34m\u001b[0m\u001b[0m\n\u001b[1;32m      7\u001b[0m         \u001b[0;32mbreak\u001b[0m\u001b[0;34m\u001b[0m\u001b[0;34m\u001b[0m\u001b[0m\n",
      "\u001b[0;32m/opt/conda/lib/python3.9/site-packages/ipykernel/kernelbase.py\u001b[0m in \u001b[0;36mraw_input\u001b[0;34m(self, prompt)\u001b[0m\n\u001b[1;32m   1073\u001b[0m                 \u001b[0;34m\"raw_input was called, but this frontend does not support input requests.\"\u001b[0m\u001b[0;34m\u001b[0m\u001b[0;34m\u001b[0m\u001b[0m\n\u001b[1;32m   1074\u001b[0m             )\n\u001b[0;32m-> 1075\u001b[0;31m         return self._input_request(\n\u001b[0m\u001b[1;32m   1076\u001b[0m             \u001b[0mstr\u001b[0m\u001b[0;34m(\u001b[0m\u001b[0mprompt\u001b[0m\u001b[0;34m)\u001b[0m\u001b[0;34m,\u001b[0m\u001b[0;34m\u001b[0m\u001b[0;34m\u001b[0m\u001b[0m\n\u001b[1;32m   1077\u001b[0m             \u001b[0mself\u001b[0m\u001b[0;34m.\u001b[0m\u001b[0m_parent_ident\u001b[0m\u001b[0;34m[\u001b[0m\u001b[0;34m\"shell\"\u001b[0m\u001b[0;34m]\u001b[0m\u001b[0;34m,\u001b[0m\u001b[0;34m\u001b[0m\u001b[0;34m\u001b[0m\u001b[0m\n",
      "\u001b[0;32m/opt/conda/lib/python3.9/site-packages/ipykernel/kernelbase.py\u001b[0m in \u001b[0;36m_input_request\u001b[0;34m(self, prompt, ident, parent, password)\u001b[0m\n\u001b[1;32m   1118\u001b[0m             \u001b[0;32mexcept\u001b[0m \u001b[0mKeyboardInterrupt\u001b[0m\u001b[0;34m:\u001b[0m\u001b[0;34m\u001b[0m\u001b[0;34m\u001b[0m\u001b[0m\n\u001b[1;32m   1119\u001b[0m                 \u001b[0;31m# re-raise KeyboardInterrupt, to truncate traceback\u001b[0m\u001b[0;34m\u001b[0m\u001b[0;34m\u001b[0m\u001b[0m\n\u001b[0;32m-> 1120\u001b[0;31m                 \u001b[0;32mraise\u001b[0m \u001b[0mKeyboardInterrupt\u001b[0m\u001b[0;34m(\u001b[0m\u001b[0;34m\"Interrupted by user\"\u001b[0m\u001b[0;34m)\u001b[0m \u001b[0;32mfrom\u001b[0m \u001b[0;32mNone\u001b[0m\u001b[0;34m\u001b[0m\u001b[0;34m\u001b[0m\u001b[0m\n\u001b[0m\u001b[1;32m   1121\u001b[0m             \u001b[0;32mexcept\u001b[0m \u001b[0mException\u001b[0m\u001b[0;34m:\u001b[0m\u001b[0;34m\u001b[0m\u001b[0;34m\u001b[0m\u001b[0m\n\u001b[1;32m   1122\u001b[0m                 \u001b[0mself\u001b[0m\u001b[0;34m.\u001b[0m\u001b[0mlog\u001b[0m\u001b[0;34m.\u001b[0m\u001b[0mwarning\u001b[0m\u001b[0;34m(\u001b[0m\u001b[0;34m\"Invalid Message:\"\u001b[0m\u001b[0;34m,\u001b[0m \u001b[0mexc_info\u001b[0m\u001b[0;34m=\u001b[0m\u001b[0;32mTrue\u001b[0m\u001b[0;34m)\u001b[0m\u001b[0;34m\u001b[0m\u001b[0;34m\u001b[0m\u001b[0m\n",
      "\u001b[0;31mKeyboardInterrupt\u001b[0m: Interrupted by user"
     ]
    }
   ],
   "source": [
    "# 1번 버튼 연결\n",
    "\n",
    "print('음료수 자판기 입니다')\n",
    "while True:\n",
    "    first_page = int(input('실행할 모드를 입력하세요:'))\n",
    "    if first_page == 0:\n",
    "        break\n",
    "    elif first_page == 1:\n",
    "        drink_dic = {'환타': 1000, '콜라': 1500, '사이다': 2000}\n",
    "        drink_dic2 = [0, 1000, 1500, 2000]\n",
    "\n",
    "        i = 1\n",
    "        for k, v in drink_dic.items():\n",
    "            print(i, k, '￦', v)\n",
    "            i += 1\n",
    "    \n",
    "        money = input('금액을 넣어 주세요 :')\n",
    "        money_balance = int(money)\n",
    "        drink_name = int(input('음료를 골라 주세요 :'))\n",
    "        drink_cost = drink_dic2[drink_name]\n",
    "        drink_count = int(input('개수를 정해 주세요 :'))\n",
    "\n",
    "        net_cost = drink_cost*drink_count\n",
    "        if money_balance - net_cost >= 0:\n",
    "            money_balance = money_balance - net_cost\n",
    "        else:\n",
    "            print('잔액이 부족합니다')\n",
    "        print('잔액 :', money_balance, end=' ')\n",
    "        \n",
    "    elif first_page == 2:\n",
    "        pass\n",
    "    elif first_page == 9999:\n",
    "        pass\n",
    "    else:\n",
    "        print('다시 입력하세요')"
   ]
  },
  {
   "cell_type": "code",
   "execution_count": 42,
   "id": "6087d2aa",
   "metadata": {},
   "outputs": [
    {
     "name": "stdout",
     "output_type": "stream",
     "text": [
      "내가 뽑은 음료수 개수 : 3\n",
      "잔액 : 500\n"
     ]
    }
   ],
   "source": [
    "#2번 버튼\n",
    "\n",
    "print('내가 뽑은 음료수 개수 :', drink_count)\n",
    "print('잔액 :', money_balance)"
   ]
  },
  {
   "cell_type": "code",
   "execution_count": 43,
   "id": "b46c442d",
   "metadata": {},
   "outputs": [
    {
     "name": "stdout",
     "output_type": "stream",
     "text": [
      "음료수 자판기 입니다\n",
      "실행할 모드를 입력하세요:2\n",
      "내가 뽑은 음료수 개수 : 3\n",
      "잔액 : 500\n",
      "실행할 모드를 입력하세요:1\n",
      "1 환타 ￦ 1000\n",
      "2 콜라 ￦ 1500\n",
      "3 사이다 ￦ 2000\n",
      "금액을 넣어 주세요 :10000\n",
      "음료를 골라 주세요 :1\n",
      "개수를 정해 주세요 :3\n",
      "잔액 : 7000 실행할 모드를 입력하세요:0\n"
     ]
    }
   ],
   "source": [
    "#2번 버튼 연결\n",
    "\n",
    "print('음료수 자판기 입니다')\n",
    "while True:\n",
    "    first_page = int(input('실행할 모드를 입력하세요:'))\n",
    "    if first_page == 0:\n",
    "        break\n",
    "    elif first_page == 1:\n",
    "        drink_dic = {'환타': 1000, '콜라': 1500, '사이다': 2000}\n",
    "        drink_dic2 = [0, 1000, 1500, 2000]\n",
    "\n",
    "        i = 1\n",
    "        for k, v in drink_dic.items():\n",
    "            print(i, k, '￦', v)\n",
    "            i += 1\n",
    "    \n",
    "        money = input('금액을 넣어 주세요 :')\n",
    "        money_balance = int(money)\n",
    "        drink_name = int(input('음료를 골라 주세요 :'))\n",
    "        drink_cost = drink_dic2[drink_name]\n",
    "        drink_count = int(input('개수를 정해 주세요 :'))\n",
    "\n",
    "        net_cost = drink_cost*drink_count\n",
    "        if money_balance - net_cost >= 0:\n",
    "            money_balance = money_balance - net_cost\n",
    "        else:\n",
    "            print('잔액이 부족합니다')\n",
    "        print('잔액 :', money_balance, end=' ')\n",
    "        \n",
    "    elif first_page == 2:\n",
    "        print('내가 뽑은 음료수 개수 :', drink_count)\n",
    "        print('잔액 :', money_balance)\n",
    "    elif first_page == 9999:\n",
    "        pass\n",
    "    else:\n",
    "        print('다시 입력하세요')"
   ]
  },
  {
   "cell_type": "code",
   "execution_count": 45,
   "id": "fd72e29a",
   "metadata": {},
   "outputs": [
    {
     "name": "stdout",
     "output_type": "stream",
     "text": [
      "음료수 자판기 입니다\n",
      "실행할 모드를 입력하세요:1\n",
      "1 환타 ￦ 1000\n",
      "2 콜라 ￦ 1500\n",
      "3 사이다 ￦ 2000\n",
      "금액을 넣어 주세요 :10000\n",
      "음료를 골라 주세요 :1\n",
      "개수를 정해 주세요 :3\n",
      "실행할 모드를 입력하세요:2\n",
      "내가 뽑은 음료수 개수 : 3\n",
      "잔액 : 7000\n",
      "실행할 모드를 입력하세요:1\n",
      "1 환타 ￦ 1000\n",
      "2 콜라 ￦ 1500\n",
      "3 사이다 ￦ 2000\n",
      "금액을 넣어 주세요 :0\n",
      "음료를 골라 주세요 :1\n",
      "개수를 정해 주세요 :1\n",
      "실행할 모드를 입력하세요:2\n",
      "내가 뽑은 음료수 개수 : 1\n",
      "잔액 : 6000\n"
     ]
    },
    {
     "ename": "KeyboardInterrupt",
     "evalue": "Interrupted by user",
     "output_type": "error",
     "traceback": [
      "\u001b[0;31m---------------------------------------------------------------------------\u001b[0m",
      "\u001b[0;31mKeyboardInterrupt\u001b[0m                         Traceback (most recent call last)",
      "\u001b[0;32m/tmp/ipykernel_176/3482214345.py\u001b[0m in \u001b[0;36m<module>\u001b[0;34m\u001b[0m\n\u001b[1;32m      4\u001b[0m \u001b[0mmoney_balance\u001b[0m \u001b[0;34m=\u001b[0m \u001b[0;36m0\u001b[0m\u001b[0;34m\u001b[0m\u001b[0;34m\u001b[0m\u001b[0m\n\u001b[1;32m      5\u001b[0m \u001b[0;32mwhile\u001b[0m \u001b[0;32mTrue\u001b[0m\u001b[0;34m:\u001b[0m\u001b[0;34m\u001b[0m\u001b[0;34m\u001b[0m\u001b[0m\n\u001b[0;32m----> 6\u001b[0;31m     \u001b[0mfirst_page\u001b[0m \u001b[0;34m=\u001b[0m \u001b[0mint\u001b[0m\u001b[0;34m(\u001b[0m\u001b[0minput\u001b[0m\u001b[0;34m(\u001b[0m\u001b[0;34m'실행할 모드를 입력하세요:'\u001b[0m\u001b[0;34m)\u001b[0m\u001b[0;34m)\u001b[0m\u001b[0;34m\u001b[0m\u001b[0;34m\u001b[0m\u001b[0m\n\u001b[0m\u001b[1;32m      7\u001b[0m     \u001b[0;32mif\u001b[0m \u001b[0mfirst_page\u001b[0m \u001b[0;34m==\u001b[0m \u001b[0;36m0\u001b[0m\u001b[0;34m:\u001b[0m\u001b[0;34m\u001b[0m\u001b[0;34m\u001b[0m\u001b[0m\n\u001b[1;32m      8\u001b[0m         \u001b[0;32mbreak\u001b[0m\u001b[0;34m\u001b[0m\u001b[0;34m\u001b[0m\u001b[0m\n",
      "\u001b[0;32m/opt/conda/lib/python3.9/site-packages/ipykernel/kernelbase.py\u001b[0m in \u001b[0;36mraw_input\u001b[0;34m(self, prompt)\u001b[0m\n\u001b[1;32m   1073\u001b[0m                 \u001b[0;34m\"raw_input was called, but this frontend does not support input requests.\"\u001b[0m\u001b[0;34m\u001b[0m\u001b[0;34m\u001b[0m\u001b[0m\n\u001b[1;32m   1074\u001b[0m             )\n\u001b[0;32m-> 1075\u001b[0;31m         return self._input_request(\n\u001b[0m\u001b[1;32m   1076\u001b[0m             \u001b[0mstr\u001b[0m\u001b[0;34m(\u001b[0m\u001b[0mprompt\u001b[0m\u001b[0;34m)\u001b[0m\u001b[0;34m,\u001b[0m\u001b[0;34m\u001b[0m\u001b[0;34m\u001b[0m\u001b[0m\n\u001b[1;32m   1077\u001b[0m             \u001b[0mself\u001b[0m\u001b[0;34m.\u001b[0m\u001b[0m_parent_ident\u001b[0m\u001b[0;34m[\u001b[0m\u001b[0;34m\"shell\"\u001b[0m\u001b[0;34m]\u001b[0m\u001b[0;34m,\u001b[0m\u001b[0;34m\u001b[0m\u001b[0;34m\u001b[0m\u001b[0m\n",
      "\u001b[0;32m/opt/conda/lib/python3.9/site-packages/ipykernel/kernelbase.py\u001b[0m in \u001b[0;36m_input_request\u001b[0;34m(self, prompt, ident, parent, password)\u001b[0m\n\u001b[1;32m   1118\u001b[0m             \u001b[0;32mexcept\u001b[0m \u001b[0mKeyboardInterrupt\u001b[0m\u001b[0;34m:\u001b[0m\u001b[0;34m\u001b[0m\u001b[0;34m\u001b[0m\u001b[0m\n\u001b[1;32m   1119\u001b[0m                 \u001b[0;31m# re-raise KeyboardInterrupt, to truncate traceback\u001b[0m\u001b[0;34m\u001b[0m\u001b[0;34m\u001b[0m\u001b[0m\n\u001b[0;32m-> 1120\u001b[0;31m                 \u001b[0;32mraise\u001b[0m \u001b[0mKeyboardInterrupt\u001b[0m\u001b[0;34m(\u001b[0m\u001b[0;34m\"Interrupted by user\"\u001b[0m\u001b[0;34m)\u001b[0m \u001b[0;32mfrom\u001b[0m \u001b[0;32mNone\u001b[0m\u001b[0;34m\u001b[0m\u001b[0;34m\u001b[0m\u001b[0m\n\u001b[0m\u001b[1;32m   1121\u001b[0m             \u001b[0;32mexcept\u001b[0m \u001b[0mException\u001b[0m\u001b[0;34m:\u001b[0m\u001b[0;34m\u001b[0m\u001b[0;34m\u001b[0m\u001b[0m\n\u001b[1;32m   1122\u001b[0m                 \u001b[0mself\u001b[0m\u001b[0;34m.\u001b[0m\u001b[0mlog\u001b[0m\u001b[0;34m.\u001b[0m\u001b[0mwarning\u001b[0m\u001b[0;34m(\u001b[0m\u001b[0;34m\"Invalid Message:\"\u001b[0m\u001b[0;34m,\u001b[0m \u001b[0mexc_info\u001b[0m\u001b[0;34m=\u001b[0m\u001b[0;32mTrue\u001b[0m\u001b[0;34m)\u001b[0m\u001b[0;34m\u001b[0m\u001b[0;34m\u001b[0m\u001b[0m\n",
      "\u001b[0;31mKeyboardInterrupt\u001b[0m: Interrupted by user"
     ]
    },
    {
     "name": "stdout",
     "output_type": "stream",
     "text": [
      "실행할 모드를 입력하세요:0\n"
     ]
    }
   ],
   "source": [
    "#2번 버튼 연결\n",
    "\n",
    "print('음료수 자판기 입니다')\n",
    "money_balance = 0\n",
    "while True:\n",
    "    first_page = int(input('실행할 모드를 입력하세요:'))\n",
    "    if first_page == 0:\n",
    "        break\n",
    "    elif first_page == 1:\n",
    "        drink_dic = {'환타': 1000, '콜라': 1500, '사이다': 2000}\n",
    "        drink_dic2 = [0, 1000, 1500, 2000]\n",
    "\n",
    "        i = 1\n",
    "        for k, v in drink_dic.items():\n",
    "            print(i, k, '￦', v)\n",
    "            i += 1\n",
    "    \n",
    "        money_input = input('금액을 넣어 주세요 :')\n",
    "        money_balance = money_balance + int(money_input)\n",
    "        drink_name = int(input('음료를 골라 주세요 :'))\n",
    "        drink_cost = drink_dic2[drink_name]\n",
    "        drink_count = int(input('개수를 정해 주세요 :'))\n",
    "\n",
    "        net_cost = drink_cost*drink_count\n",
    "        if money_balance - net_cost >= 0:\n",
    "            money_balance = money_balance - net_cost\n",
    "            total_count = total_count + drink_count\n",
    "        else:\n",
    "            print('잔액이 부족합니다')\n",
    "            print('잔액 :', money_balance, end=' ')\n",
    "        \n",
    "    elif first_page == 2:\n",
    "        print('내가 뽑은 음료수 개수 :', drink_count)\n",
    "        print('잔액 :', money_balance)\n",
    "    elif first_page == 9999:\n",
    "        pass\n",
    "    else:\n",
    "        print('다시 입력하세요')"
   ]
  },
  {
   "cell_type": "code",
   "execution_count": 46,
   "id": "34e2eab1",
   "metadata": {},
   "outputs": [
    {
     "name": "stdout",
     "output_type": "stream",
     "text": [
      "음료수 자판기 입니다\n",
      "실행할 모드를 입력하세요:1\n",
      "1 환타 ￦ 1000\n",
      "2 콜라 ￦ 1500\n",
      "3 사이다 ￦ 2000\n",
      "금액을 넣어 주세요 :10000\n",
      "음료를 골라 주세요 :1\n",
      "개수를 정해 주세요 :1\n",
      "실행할 모드를 입력하세요:2\n",
      "내가 뽑은 음료수 개수 : 1\n",
      "잔액 : 9000\n",
      "실행할 모드를 입력하세요:1\n",
      "1 환타 ￦ 1000\n",
      "2 콜라 ￦ 1500\n",
      "3 사이다 ￦ 2000\n",
      "금액을 넣어 주세요 :0\n",
      "음료를 골라 주세요 :1\n",
      "개수를 정해 주세요 :1\n",
      "실행할 모드를 입력하세요:2\n",
      "내가 뽑은 음료수 개수 : 2\n",
      "잔액 : 8000\n",
      "실행할 모드를 입력하세요:1\n",
      "1 환타 ￦ 1000\n",
      "2 콜라 ￦ 1500\n",
      "3 사이다 ￦ 2000\n",
      "금액을 넣어 주세요 :3\n",
      "음료를 골라 주세요 :4\n"
     ]
    },
    {
     "ename": "IndexError",
     "evalue": "list index out of range",
     "output_type": "error",
     "traceback": [
      "\u001b[0;31m---------------------------------------------------------------------------\u001b[0m",
      "\u001b[0;31mIndexError\u001b[0m                                Traceback (most recent call last)",
      "\u001b[0;32m/tmp/ipykernel_176/1106297473.py\u001b[0m in \u001b[0;36m<module>\u001b[0;34m\u001b[0m\n\u001b[1;32m     20\u001b[0m         \u001b[0mmoney_balance\u001b[0m \u001b[0;34m=\u001b[0m \u001b[0mmoney_balance\u001b[0m \u001b[0;34m+\u001b[0m \u001b[0mint\u001b[0m\u001b[0;34m(\u001b[0m\u001b[0mmoney_input\u001b[0m\u001b[0;34m)\u001b[0m\u001b[0;34m\u001b[0m\u001b[0;34m\u001b[0m\u001b[0m\n\u001b[1;32m     21\u001b[0m         \u001b[0mdrink_name\u001b[0m \u001b[0;34m=\u001b[0m \u001b[0mint\u001b[0m\u001b[0;34m(\u001b[0m\u001b[0minput\u001b[0m\u001b[0;34m(\u001b[0m\u001b[0;34m'음료를 골라 주세요 :'\u001b[0m\u001b[0;34m)\u001b[0m\u001b[0;34m)\u001b[0m\u001b[0;34m\u001b[0m\u001b[0;34m\u001b[0m\u001b[0m\n\u001b[0;32m---> 22\u001b[0;31m         \u001b[0mdrink_cost\u001b[0m \u001b[0;34m=\u001b[0m \u001b[0mdrink_dic2\u001b[0m\u001b[0;34m[\u001b[0m\u001b[0mdrink_name\u001b[0m\u001b[0;34m]\u001b[0m\u001b[0;34m\u001b[0m\u001b[0;34m\u001b[0m\u001b[0m\n\u001b[0m\u001b[1;32m     23\u001b[0m         \u001b[0mdrink_count\u001b[0m \u001b[0;34m=\u001b[0m \u001b[0mint\u001b[0m\u001b[0;34m(\u001b[0m\u001b[0minput\u001b[0m\u001b[0;34m(\u001b[0m\u001b[0;34m'개수를 정해 주세요 :'\u001b[0m\u001b[0;34m)\u001b[0m\u001b[0;34m)\u001b[0m\u001b[0;34m\u001b[0m\u001b[0;34m\u001b[0m\u001b[0m\n\u001b[1;32m     24\u001b[0m \u001b[0;34m\u001b[0m\u001b[0m\n",
      "\u001b[0;31mIndexError\u001b[0m: list index out of range"
     ]
    }
   ],
   "source": [
    "#잔액 연결\n",
    "\n",
    "print('음료수 자판기 입니다')\n",
    "money_balance = 0\n",
    "total_count = 0\n",
    "while True:\n",
    "    first_page = int(input('실행할 모드를 입력하세요:'))\n",
    "    if first_page == 0:\n",
    "        break\n",
    "    elif first_page == 1:\n",
    "        drink_dic = {'환타': 1000, '콜라': 1500, '사이다': 2000}\n",
    "        drink_dic2 = [0, 1000, 1500, 2000]\n",
    "\n",
    "        i = 1\n",
    "        for k, v in drink_dic.items():\n",
    "            print(i, k, '￦', v)\n",
    "            i += 1\n",
    "    \n",
    "        money_input = input('금액을 넣어 주세요 :')\n",
    "        money_balance = money_balance + int(money_input)\n",
    "        drink_name = int(input('음료를 골라 주세요 :'))\n",
    "        drink_cost = drink_dic2[drink_name]\n",
    "        drink_count = int(input('개수를 정해 주세요 :'))\n",
    "\n",
    "        net_cost = drink_cost*drink_count\n",
    "        if money_balance - net_cost >= 0:\n",
    "            money_balance = money_balance - net_cost\n",
    "            total_count = total_count + drink_count\n",
    "        else:\n",
    "            print('잔액이 부족합니다')\n",
    "            print('잔액 :', money_balance, end=' ')\n",
    "        \n",
    "    elif first_page == 2:\n",
    "        print('내가 뽑은 음료수 개수 :', total_count)\n",
    "        print('잔액 :', money_balance)\n",
    "    elif first_page == 9999:\n",
    "        pass\n",
    "    else:\n",
    "        print('다시 입력하세요')"
   ]
  },
  {
   "cell_type": "code",
   "execution_count": 50,
   "id": "31299c48",
   "metadata": {},
   "outputs": [
    {
     "name": "stdout",
     "output_type": "stream",
     "text": [
      "음료수 자판기 입니다\n",
      "실행할 모드를 입력하세요:1\n",
      "1 환타 ￦ 1000\n",
      "2 콜라 ￦ 1500\n",
      "3 사이다 ￦ 2000\n",
      "금액을 넣어 주세요 :4\n",
      "음료를 골라 주세요 :4\n",
      "없는 메뉴입니다.\n",
      "잔액이 부족합니다\n",
      "잔액 : 4 "
     ]
    },
    {
     "ename": "KeyboardInterrupt",
     "evalue": "Interrupted by user",
     "output_type": "error",
     "traceback": [
      "\u001b[0;31m---------------------------------------------------------------------------\u001b[0m",
      "\u001b[0;31mKeyboardInterrupt\u001b[0m                         Traceback (most recent call last)",
      "\u001b[0;32m/tmp/ipykernel_176/3255543181.py\u001b[0m in \u001b[0;36m<module>\u001b[0;34m\u001b[0m\n\u001b[1;32m      5\u001b[0m \u001b[0mtotal_count\u001b[0m \u001b[0;34m=\u001b[0m \u001b[0;36m0\u001b[0m\u001b[0;34m\u001b[0m\u001b[0;34m\u001b[0m\u001b[0m\n\u001b[1;32m      6\u001b[0m \u001b[0;32mwhile\u001b[0m \u001b[0;32mTrue\u001b[0m\u001b[0;34m:\u001b[0m\u001b[0;34m\u001b[0m\u001b[0;34m\u001b[0m\u001b[0m\n\u001b[0;32m----> 7\u001b[0;31m     \u001b[0mfirst_page\u001b[0m \u001b[0;34m=\u001b[0m \u001b[0mint\u001b[0m\u001b[0;34m(\u001b[0m\u001b[0minput\u001b[0m\u001b[0;34m(\u001b[0m\u001b[0;34m'실행할 모드를 입력하세요:'\u001b[0m\u001b[0;34m)\u001b[0m\u001b[0;34m)\u001b[0m\u001b[0;34m\u001b[0m\u001b[0;34m\u001b[0m\u001b[0m\n\u001b[0m\u001b[1;32m      8\u001b[0m     \u001b[0;32mif\u001b[0m \u001b[0mfirst_page\u001b[0m \u001b[0;34m==\u001b[0m \u001b[0;36m0\u001b[0m\u001b[0;34m:\u001b[0m\u001b[0;34m\u001b[0m\u001b[0;34m\u001b[0m\u001b[0m\n\u001b[1;32m      9\u001b[0m         \u001b[0;32mbreak\u001b[0m\u001b[0;34m\u001b[0m\u001b[0;34m\u001b[0m\u001b[0m\n",
      "\u001b[0;32m/opt/conda/lib/python3.9/site-packages/ipykernel/kernelbase.py\u001b[0m in \u001b[0;36mraw_input\u001b[0;34m(self, prompt)\u001b[0m\n\u001b[1;32m   1073\u001b[0m                 \u001b[0;34m\"raw_input was called, but this frontend does not support input requests.\"\u001b[0m\u001b[0;34m\u001b[0m\u001b[0;34m\u001b[0m\u001b[0m\n\u001b[1;32m   1074\u001b[0m             )\n\u001b[0;32m-> 1075\u001b[0;31m         return self._input_request(\n\u001b[0m\u001b[1;32m   1076\u001b[0m             \u001b[0mstr\u001b[0m\u001b[0;34m(\u001b[0m\u001b[0mprompt\u001b[0m\u001b[0;34m)\u001b[0m\u001b[0;34m,\u001b[0m\u001b[0;34m\u001b[0m\u001b[0;34m\u001b[0m\u001b[0m\n\u001b[1;32m   1077\u001b[0m             \u001b[0mself\u001b[0m\u001b[0;34m.\u001b[0m\u001b[0m_parent_ident\u001b[0m\u001b[0;34m[\u001b[0m\u001b[0;34m\"shell\"\u001b[0m\u001b[0;34m]\u001b[0m\u001b[0;34m,\u001b[0m\u001b[0;34m\u001b[0m\u001b[0;34m\u001b[0m\u001b[0m\n",
      "\u001b[0;32m/opt/conda/lib/python3.9/site-packages/ipykernel/kernelbase.py\u001b[0m in \u001b[0;36m_input_request\u001b[0;34m(self, prompt, ident, parent, password)\u001b[0m\n\u001b[1;32m   1118\u001b[0m             \u001b[0;32mexcept\u001b[0m \u001b[0mKeyboardInterrupt\u001b[0m\u001b[0;34m:\u001b[0m\u001b[0;34m\u001b[0m\u001b[0;34m\u001b[0m\u001b[0m\n\u001b[1;32m   1119\u001b[0m                 \u001b[0;31m# re-raise KeyboardInterrupt, to truncate traceback\u001b[0m\u001b[0;34m\u001b[0m\u001b[0;34m\u001b[0m\u001b[0m\n\u001b[0;32m-> 1120\u001b[0;31m                 \u001b[0;32mraise\u001b[0m \u001b[0mKeyboardInterrupt\u001b[0m\u001b[0;34m(\u001b[0m\u001b[0;34m\"Interrupted by user\"\u001b[0m\u001b[0;34m)\u001b[0m \u001b[0;32mfrom\u001b[0m \u001b[0;32mNone\u001b[0m\u001b[0;34m\u001b[0m\u001b[0;34m\u001b[0m\u001b[0m\n\u001b[0m\u001b[1;32m   1121\u001b[0m             \u001b[0;32mexcept\u001b[0m \u001b[0mException\u001b[0m\u001b[0;34m:\u001b[0m\u001b[0;34m\u001b[0m\u001b[0;34m\u001b[0m\u001b[0m\n\u001b[1;32m   1122\u001b[0m                 \u001b[0mself\u001b[0m\u001b[0;34m.\u001b[0m\u001b[0mlog\u001b[0m\u001b[0;34m.\u001b[0m\u001b[0mwarning\u001b[0m\u001b[0;34m(\u001b[0m\u001b[0;34m\"Invalid Message:\"\u001b[0m\u001b[0;34m,\u001b[0m \u001b[0mexc_info\u001b[0m\u001b[0;34m=\u001b[0m\u001b[0;32mTrue\u001b[0m\u001b[0;34m)\u001b[0m\u001b[0;34m\u001b[0m\u001b[0;34m\u001b[0m\u001b[0m\n",
      "\u001b[0;31mKeyboardInterrupt\u001b[0m: Interrupted by user"
     ]
    }
   ],
   "source": [
    "#없는 메뉴 입니다 표시\n",
    "\n",
    "print('음료수 자판기 입니다')\n",
    "money_balance = 0\n",
    "total_count = 0\n",
    "while True:\n",
    "    first_page = int(input('실행할 모드를 입력하세요:'))\n",
    "    if first_page == 0:\n",
    "        break\n",
    "    elif first_page == 1:\n",
    "        drink_dic = {'환타': 1000, '콜라': 1500, '사이다': 2000}\n",
    "        drink_dic2 = [0, 1000, 1500, 2000]\n",
    "\n",
    "        i = 1\n",
    "        for k, v in drink_dic.items():\n",
    "            print(i, k, '￦', v)\n",
    "            i += 1\n",
    "    \n",
    "        money_input = input('금액을 넣어 주세요 :')\n",
    "        money_balance = money_balance + int(money_input)\n",
    "        try:\n",
    "            drink_name = int(input('음료를 골라 주세요 :'))\n",
    "            drink_cost = drink_dic2[drink_name]\n",
    "            drink_count = int(input('개수를 정해 주세요 :'))\n",
    "\n",
    "        except:\n",
    "            print('없는 메뉴입니다.')\n",
    "        \n",
    "        net_cost = drink_cost*drink_count\n",
    "        if money_balance - net_cost >= 0:\n",
    "            money_balance = money_balance - net_cost\n",
    "            total_count = total_count + drink_count\n",
    "        else:\n",
    "            print('잔액이 부족합니다')\n",
    "            print('잔액 :', money_balance, end=' ')\n",
    "        \n",
    "    elif first_page == 2:\n",
    "        print('내가 뽑은 음료수 개수 :', total_count)\n",
    "        print('잔액 :', money_balance)\n",
    "    elif first_page == 9999:\n",
    "        pass\n",
    "    else:\n",
    "        print('다시 입력하세요')"
   ]
  },
  {
   "cell_type": "code",
   "execution_count": 51,
   "id": "c16e6fae",
   "metadata": {},
   "outputs": [
    {
     "name": "stdout",
     "output_type": "stream",
     "text": [
      "음료수 자판기 입니다\n",
      "실행할 모드를 입력하세요:1\n",
      "1 환타 ￦ 1000\n",
      "2 콜라 ￦ 1500\n",
      "3 사이다 ￦ 2000\n",
      "금액을 넣어 주세요 :10000\n",
      "음료를 골라 주세요 :1\n",
      "개수를 정해 주세요 :3\n",
      "실행할 모드를 입력하세요:2\n",
      "내가 뽑은 음료수 개수 : 3\n",
      "잔액 : 7000\n",
      "실행할 모드를 입력하세요:1\n",
      "1 환타 ￦ 1000\n",
      "2 콜라 ￦ 1500\n",
      "3 사이다 ￦ 2000\n",
      "금액을 넣어 주세요 :500\n",
      "음료를 골라 주세요 :5\n",
      "없는 메뉴입니다.\n",
      "실행할 모드를 입력하세요:5\n",
      "다시 입력하세요\n",
      "실행할 모드를 입력하세요:1\n",
      "1 환타 ￦ 1000\n",
      "2 콜라 ￦ 1500\n",
      "3 사이다 ￦ 2000\n",
      "금액을 넣어 주세요 :500\n",
      "음료를 골라 주세요 :3\n",
      "개수를 정해 주세요 :4\n",
      "잔액이 부족합니다\n",
      "잔액 : 5000 실행할 모드를 입력하세요:0\n"
     ]
    }
   ],
   "source": [
    "#proto type\n",
    "\n",
    "print('음료수 자판기 입니다')\n",
    "money_balance = 0\n",
    "total_count = 0\n",
    "while True:\n",
    "    first_page = int(input('실행할 모드를 입력하세요:'))\n",
    "    if first_page == 0:\n",
    "        break\n",
    "    elif first_page == 1:\n",
    "        drink_dic = {'환타': 1000, '콜라': 1500, '사이다': 2000}\n",
    "        drink_dic2 = [0, 1000, 1500, 2000]\n",
    "\n",
    "        i = 1\n",
    "        for k, v in drink_dic.items():\n",
    "            print(i, k, '￦', v)\n",
    "            i += 1\n",
    "    \n",
    "        money_input = input('금액을 넣어 주세요 :')\n",
    "        money_balance = money_balance + int(money_input)\n",
    "        try:\n",
    "            drink_name = int(input('음료를 골라 주세요 :'))\n",
    "            drink_cost = drink_dic2[drink_name]\n",
    "            drink_count = int(input('개수를 정해 주세요 :'))\n",
    "\n",
    "        except:\n",
    "            print('없는 메뉴입니다.')\n",
    "        \n",
    "        net_cost = drink_cost*drink_count\n",
    "        if money_balance - net_cost >= 0:\n",
    "            money_balance = money_balance - net_cost\n",
    "            total_count = total_count + drink_count\n",
    "        else:\n",
    "            print('잔액이 부족합니다')\n",
    "            print('잔액 :', money_balance, end=' ')\n",
    "        \n",
    "    elif first_page == 2:\n",
    "        print('내가 뽑은 음료수 개수 :', total_count)\n",
    "        print('잔액 :', money_balance)\n",
    "    elif first_page == 9999:\n",
    "        pass\n",
    "    else:\n",
    "        print('다시 입력하세요')"
   ]
  },
  {
   "cell_type": "code",
   "execution_count": 54,
   "id": "b6c8816e",
   "metadata": {},
   "outputs": [
    {
     "name": "stdout",
     "output_type": "stream",
     "text": [
      "음료수 자판기 입니다\n"
     ]
    },
    {
     "ename": "KeyboardInterrupt",
     "evalue": "Interrupted by user",
     "output_type": "error",
     "traceback": [
      "\u001b[0;31m---------------------------------------------------------------------------\u001b[0m",
      "\u001b[0;31mKeyboardInterrupt\u001b[0m                         Traceback (most recent call last)",
      "\u001b[0;32m/tmp/ipykernel_176/1260762339.py\u001b[0m in \u001b[0;36m<module>\u001b[0;34m\u001b[0m\n\u001b[1;32m      5\u001b[0m \u001b[0mtotal_count\u001b[0m \u001b[0;34m=\u001b[0m \u001b[0;36m0\u001b[0m\u001b[0;34m\u001b[0m\u001b[0;34m\u001b[0m\u001b[0m\n\u001b[1;32m      6\u001b[0m \u001b[0;32mwhile\u001b[0m \u001b[0;32mTrue\u001b[0m\u001b[0;34m:\u001b[0m\u001b[0;34m\u001b[0m\u001b[0;34m\u001b[0m\u001b[0m\n\u001b[0;32m----> 7\u001b[0;31m     \u001b[0mfirst_page\u001b[0m \u001b[0;34m=\u001b[0m \u001b[0mint\u001b[0m\u001b[0;34m(\u001b[0m\u001b[0minput\u001b[0m\u001b[0;34m(\u001b[0m\u001b[0;34m'실행할 모드를 입력하세요:'\u001b[0m\u001b[0;34m)\u001b[0m\u001b[0;34m)\u001b[0m\u001b[0;34m\u001b[0m\u001b[0;34m\u001b[0m\u001b[0m\n\u001b[0m\u001b[1;32m      8\u001b[0m     \u001b[0;32mif\u001b[0m \u001b[0mfirst_page\u001b[0m \u001b[0;34m==\u001b[0m \u001b[0;36m0\u001b[0m\u001b[0;34m:\u001b[0m\u001b[0;34m\u001b[0m\u001b[0;34m\u001b[0m\u001b[0m\n\u001b[1;32m      9\u001b[0m         \u001b[0;32mbreak\u001b[0m\u001b[0;34m\u001b[0m\u001b[0;34m\u001b[0m\u001b[0m\n",
      "\u001b[0;32m/opt/conda/lib/python3.9/site-packages/ipykernel/kernelbase.py\u001b[0m in \u001b[0;36mraw_input\u001b[0;34m(self, prompt)\u001b[0m\n\u001b[1;32m   1073\u001b[0m                 \u001b[0;34m\"raw_input was called, but this frontend does not support input requests.\"\u001b[0m\u001b[0;34m\u001b[0m\u001b[0;34m\u001b[0m\u001b[0m\n\u001b[1;32m   1074\u001b[0m             )\n\u001b[0;32m-> 1075\u001b[0;31m         return self._input_request(\n\u001b[0m\u001b[1;32m   1076\u001b[0m             \u001b[0mstr\u001b[0m\u001b[0;34m(\u001b[0m\u001b[0mprompt\u001b[0m\u001b[0;34m)\u001b[0m\u001b[0;34m,\u001b[0m\u001b[0;34m\u001b[0m\u001b[0;34m\u001b[0m\u001b[0m\n\u001b[1;32m   1077\u001b[0m             \u001b[0mself\u001b[0m\u001b[0;34m.\u001b[0m\u001b[0m_parent_ident\u001b[0m\u001b[0;34m[\u001b[0m\u001b[0;34m\"shell\"\u001b[0m\u001b[0;34m]\u001b[0m\u001b[0;34m,\u001b[0m\u001b[0;34m\u001b[0m\u001b[0;34m\u001b[0m\u001b[0m\n",
      "\u001b[0;32m/opt/conda/lib/python3.9/site-packages/ipykernel/kernelbase.py\u001b[0m in \u001b[0;36m_input_request\u001b[0;34m(self, prompt, ident, parent, password)\u001b[0m\n\u001b[1;32m   1118\u001b[0m             \u001b[0;32mexcept\u001b[0m \u001b[0mKeyboardInterrupt\u001b[0m\u001b[0;34m:\u001b[0m\u001b[0;34m\u001b[0m\u001b[0;34m\u001b[0m\u001b[0m\n\u001b[1;32m   1119\u001b[0m                 \u001b[0;31m# re-raise KeyboardInterrupt, to truncate traceback\u001b[0m\u001b[0;34m\u001b[0m\u001b[0;34m\u001b[0m\u001b[0m\n\u001b[0;32m-> 1120\u001b[0;31m                 \u001b[0;32mraise\u001b[0m \u001b[0mKeyboardInterrupt\u001b[0m\u001b[0;34m(\u001b[0m\u001b[0;34m\"Interrupted by user\"\u001b[0m\u001b[0;34m)\u001b[0m \u001b[0;32mfrom\u001b[0m \u001b[0;32mNone\u001b[0m\u001b[0;34m\u001b[0m\u001b[0;34m\u001b[0m\u001b[0m\n\u001b[0m\u001b[1;32m   1121\u001b[0m             \u001b[0;32mexcept\u001b[0m \u001b[0mException\u001b[0m\u001b[0;34m:\u001b[0m\u001b[0;34m\u001b[0m\u001b[0;34m\u001b[0m\u001b[0m\n\u001b[1;32m   1122\u001b[0m                 \u001b[0mself\u001b[0m\u001b[0;34m.\u001b[0m\u001b[0mlog\u001b[0m\u001b[0;34m.\u001b[0m\u001b[0mwarning\u001b[0m\u001b[0;34m(\u001b[0m\u001b[0;34m\"Invalid Message:\"\u001b[0m\u001b[0;34m,\u001b[0m \u001b[0mexc_info\u001b[0m\u001b[0;34m=\u001b[0m\u001b[0;32mTrue\u001b[0m\u001b[0;34m)\u001b[0m\u001b[0;34m\u001b[0m\u001b[0;34m\u001b[0m\u001b[0m\n",
      "\u001b[0;31mKeyboardInterrupt\u001b[0m: Interrupted by user"
     ]
    }
   ],
   "source": [
    "#proto type 오류해결 모색\n",
    "\n",
    "print('음료수 자판기 입니다')\n",
    "money_balance = 0\n",
    "total_count = 0\n",
    "while True:\n",
    "    first_page = int(input('실행할 모드를 입력하세요:'))\n",
    "    if first_page == 0:\n",
    "        break\n",
    "    elif first_page == 1:\n",
    "        drink_dic = {'환타': 1000, '콜라': 1500, '사이다': 2000}\n",
    "        drink_dic2 = [0, 1000, 1500, 2000]\n",
    "\n",
    "        i = 1\n",
    "        for k, v in drink_dic.items():\n",
    "            print(i, k, '￦', v)\n",
    "            i += 1\n",
    "    \n",
    "        money_input = input('금액을 넣어 주세요 :')\n",
    "        money_balance = money_balance + int(money_input)\n",
    "        try:\n",
    "            drink_name = int(input('음료를 골라 주세요 :'))\n",
    "            drink_cost = drink_dic2[drink_name]\n",
    "            drink_count = int(input('개수를 정해 주세요 :'))\n",
    "\n",
    "        except:\n",
    "            print('없는 메뉴입니다.')\n",
    "        \n",
    "        net_cost = drink_cost*drink_count\n",
    "        if money_balance - net_cost >= 0:\n",
    "            money_balance = money_balance - net_cost\n",
    "            total_count = total_count + drink_count\n",
    "        else:\n",
    "            print('잔액이 부족합니다')\n",
    "            print('잔액 :', money_balance, end=' ')\n",
    "        \n",
    "    elif first_page == 2:\n",
    "        print('내가 뽑은 음료수 개수 :', total_count)\n",
    "        print('잔액 :', money_balance)\n",
    "    elif first_page == 9999:\n",
    "        pass\n",
    "    else:\n",
    "        print('다시 입력하세요')"
   ]
  },
  {
   "cell_type": "code",
   "execution_count": 55,
   "id": "1dae8eab",
   "metadata": {},
   "outputs": [
    {
     "name": "stdout",
     "output_type": "stream",
     "text": [
      "음료수 자판기 입니다\n",
      "실행할 모드를 입력하세요:1\n",
      "1 환타 ￦ 1000\n",
      "2 콜라 ￦ 1500\n",
      "3 사이다 ￦ 2000\n",
      "금액을 넣어 주세요 :10000\n",
      "음료를 골라 주세요 :4\n",
      "없는 메뉴입니다.\n",
      "실행할 모드를 입력하세요:2\n",
      "내가 뽑은 음료수 개수 : 3\n",
      "잔액 : 7000\n",
      "실행할 모드를 입력하세요:0\n"
     ]
    }
   ],
   "source": [
    "#proto type 오류해결 모색\n",
    "\n",
    "print('음료수 자판기 입니다')\n",
    "money_balance = 0\n",
    "total_count = 0\n",
    "while True:\n",
    "    first_page = int(input('실행할 모드를 입력하세요:'))\n",
    "    if first_page == 0:\n",
    "        break\n",
    "    elif first_page == 1:\n",
    "        drink_dic = {'환타': 1000, '콜라': 1500, '사이다': 2000}\n",
    "        drink_dic2 = [0, 1000, 1500, 2000]\n",
    "\n",
    "        i = 1\n",
    "        for k, v in drink_dic.items():\n",
    "            print(i, k, '￦', v)\n",
    "            i += 1\n",
    "    \n",
    "        money_input = input('금액을 넣어 주세요 :')\n",
    "        money_balance = money_balance + int(money_input)\n",
    "        try:\n",
    "            drink_name = int(input('음료를 골라 주세요 :'))\n",
    "            error = drink_dic2[drink_name] \n",
    "            drink_count = int(input('개수를 정해 주세요 :'))\n",
    "            drink_cost = drink_dic2[drink_name]\n",
    "\n",
    "        except:\n",
    "            print('없는 메뉴입니다.')\n",
    "        \n",
    "        net_cost = drink_cost*drink_count\n",
    "        if money_balance - net_cost >= 0:\n",
    "            money_balance = money_balance - net_cost\n",
    "            total_count = total_count + drink_count\n",
    "        else:\n",
    "            print('잔액이 부족합니다')\n",
    "            print('잔액 :', money_balance, end=' ')\n",
    "        \n",
    "    elif first_page == 2:\n",
    "        print('내가 뽑은 음료수 개수 :', total_count)\n",
    "        print('잔액 :', money_balance)\n",
    "    elif first_page == 9999:\n",
    "        pass\n",
    "    else:\n",
    "        print('다시 입력하세요')"
   ]
  },
  {
   "cell_type": "code",
   "execution_count": 56,
   "id": "877d0776",
   "metadata": {},
   "outputs": [
    {
     "name": "stdout",
     "output_type": "stream",
     "text": [
      "음료수 자판기 입니다\n",
      "실행할 모드를 입력하세요:1\n",
      "1 환타 ￦ 1000\n",
      "2 콜라 ￦ 1500\n",
      "3 사이다 ￦ 2000\n",
      "금액을 넣어 주세요 :10000\n",
      "음료를 골라 주세요 :4\n",
      "없는 메뉴입니다.\n",
      "실행할 모드를 입력하세요:2\n",
      "내가 뽑은 음료수 개수 : 3\n",
      "잔액 : 7000\n",
      "실행할 모드를 입력하세요:1\n",
      "1 환타 ￦ 1000\n",
      "2 콜라 ￦ 1500\n",
      "3 사이다 ￦ 2000\n",
      "금액을 넣어 주세요 :1\n",
      "음료를 골라 주세요 :4\n",
      "없는 메뉴입니다.\n",
      "실행할 모드를 입력하세요:\n"
     ]
    },
    {
     "ename": "ValueError",
     "evalue": "invalid literal for int() with base 10: ''",
     "output_type": "error",
     "traceback": [
      "\u001b[0;31m---------------------------------------------------------------------------\u001b[0m",
      "\u001b[0;31mValueError\u001b[0m                                Traceback (most recent call last)",
      "\u001b[0;32m/tmp/ipykernel_176/1137926100.py\u001b[0m in \u001b[0;36m<module>\u001b[0;34m\u001b[0m\n\u001b[1;32m      5\u001b[0m \u001b[0mtotal_count\u001b[0m \u001b[0;34m=\u001b[0m \u001b[0;36m0\u001b[0m\u001b[0;34m\u001b[0m\u001b[0;34m\u001b[0m\u001b[0m\n\u001b[1;32m      6\u001b[0m \u001b[0;32mwhile\u001b[0m \u001b[0;32mTrue\u001b[0m\u001b[0;34m:\u001b[0m\u001b[0;34m\u001b[0m\u001b[0;34m\u001b[0m\u001b[0m\n\u001b[0;32m----> 7\u001b[0;31m     \u001b[0mfirst_page\u001b[0m \u001b[0;34m=\u001b[0m \u001b[0mint\u001b[0m\u001b[0;34m(\u001b[0m\u001b[0minput\u001b[0m\u001b[0;34m(\u001b[0m\u001b[0;34m'실행할 모드를 입력하세요:'\u001b[0m\u001b[0;34m)\u001b[0m\u001b[0;34m)\u001b[0m\u001b[0;34m\u001b[0m\u001b[0;34m\u001b[0m\u001b[0m\n\u001b[0m\u001b[1;32m      8\u001b[0m     \u001b[0;32mif\u001b[0m \u001b[0mfirst_page\u001b[0m \u001b[0;34m==\u001b[0m \u001b[0;36m0\u001b[0m\u001b[0;34m:\u001b[0m\u001b[0;34m\u001b[0m\u001b[0;34m\u001b[0m\u001b[0m\n\u001b[1;32m      9\u001b[0m         \u001b[0;32mbreak\u001b[0m\u001b[0;34m\u001b[0m\u001b[0;34m\u001b[0m\u001b[0m\n",
      "\u001b[0;31mValueError\u001b[0m: invalid literal for int() with base 10: ''"
     ]
    }
   ],
   "source": [
    "#proto type 오류해결 모색\n",
    "\n",
    "print('음료수 자판기 입니다')\n",
    "money_balance = 0\n",
    "total_count = 0\n",
    "while True:\n",
    "    first_page = int(input('실행할 모드를 입력하세요:'))\n",
    "    if first_page == 0:\n",
    "        break\n",
    "    elif first_page == 1:\n",
    "        drink_dic = {'환타': 1000, '콜라': 1500, '사이다': 2000}\n",
    "        drink_dic2 = [0, 1000, 1500, 2000]\n",
    "\n",
    "        i = 1\n",
    "        for k, v in drink_dic.items():\n",
    "            print(i, k, '￦', v)\n",
    "            i += 1\n",
    "    \n",
    "        money_input = input('금액을 넣어 주세요 :')\n",
    "        money_balance = money_balance + int(money_input)\n",
    "        try:\n",
    "            drink_name = int(input('음료를 골라 주세요 :'))\n",
    "            error = drink_dic2[drink_name] \n",
    "            drink_count = int(input('개수를 정해 주세요 :'))\n",
    "            drink_cost = drink_dic2[drink_name]\n",
    "\n",
    "        except:\n",
    "            print('없는 메뉴입니다.')\n",
    "        \n",
    "        net_cost = drink_cost*drink_count\n",
    "        if money_balance - net_cost >= 0:\n",
    "            money_balance = money_balance - net_cost\n",
    "            total_count = total_count + drink_count\n",
    "        else:\n",
    "            print('잔액이 부족합니다')\n",
    "            print('잔액 :', money_balance, end=' ')\n",
    "        \n",
    "    elif first_page == 2:\n",
    "        print('내가 뽑은 음료수 개수 :', total_count)\n",
    "        print('잔액 :', money_balance)\n",
    "    elif first_page == 9999:\n",
    "        pass\n",
    "    else:\n",
    "        print('다시 입력하세요')"
   ]
  },
  {
   "cell_type": "code",
   "execution_count": 3,
   "id": "246e3751",
   "metadata": {},
   "outputs": [
    {
     "name": "stdout",
     "output_type": "stream",
     "text": [
      "음료수 자판기 입니다\n",
      "실행할 모드를 입력하세요:1\n",
      "1 환타 ￦ 1000\n",
      "2 콜라 ￦ 1500\n",
      "3 사이다 ￦ 2000\n",
      "금액을 넣어 주세요 :10000\n",
      "음료를 골라 주세요 :5\n",
      "없는 메뉴입니다.\n",
      "실행할 모드를 입력하세요:2\n",
      "내가 뽑은 음료수 개수 : 0\n",
      "잔액 : 10000\n"
     ]
    },
    {
     "ename": "KeyboardInterrupt",
     "evalue": "Interrupted by user",
     "output_type": "error",
     "traceback": [
      "\u001b[0;31m---------------------------------------------------------------------------\u001b[0m",
      "\u001b[0;31mKeyboardInterrupt\u001b[0m                         Traceback (most recent call last)",
      "\u001b[0;32m/tmp/ipykernel_288/2187562680.py\u001b[0m in \u001b[0;36m<module>\u001b[0;34m\u001b[0m\n\u001b[1;32m      5\u001b[0m \u001b[0mtotal_count\u001b[0m \u001b[0;34m=\u001b[0m \u001b[0;36m0\u001b[0m\u001b[0;34m\u001b[0m\u001b[0;34m\u001b[0m\u001b[0m\n\u001b[1;32m      6\u001b[0m \u001b[0;32mwhile\u001b[0m \u001b[0;32mTrue\u001b[0m\u001b[0;34m:\u001b[0m\u001b[0;34m\u001b[0m\u001b[0;34m\u001b[0m\u001b[0m\n\u001b[0;32m----> 7\u001b[0;31m     \u001b[0mfirst_page\u001b[0m \u001b[0;34m=\u001b[0m \u001b[0mint\u001b[0m\u001b[0;34m(\u001b[0m\u001b[0minput\u001b[0m\u001b[0;34m(\u001b[0m\u001b[0;34m'실행할 모드를 입력하세요:'\u001b[0m\u001b[0;34m)\u001b[0m\u001b[0;34m)\u001b[0m\u001b[0;34m\u001b[0m\u001b[0;34m\u001b[0m\u001b[0m\n\u001b[0m\u001b[1;32m      8\u001b[0m     \u001b[0;32mif\u001b[0m \u001b[0mfirst_page\u001b[0m \u001b[0;34m==\u001b[0m \u001b[0;36m0\u001b[0m\u001b[0;34m:\u001b[0m\u001b[0;34m\u001b[0m\u001b[0;34m\u001b[0m\u001b[0m\n\u001b[1;32m      9\u001b[0m         \u001b[0;32mbreak\u001b[0m\u001b[0;34m\u001b[0m\u001b[0;34m\u001b[0m\u001b[0m\n",
      "\u001b[0;32m/opt/conda/lib/python3.9/site-packages/ipykernel/kernelbase.py\u001b[0m in \u001b[0;36mraw_input\u001b[0;34m(self, prompt)\u001b[0m\n\u001b[1;32m   1073\u001b[0m                 \u001b[0;34m\"raw_input was called, but this frontend does not support input requests.\"\u001b[0m\u001b[0;34m\u001b[0m\u001b[0;34m\u001b[0m\u001b[0m\n\u001b[1;32m   1074\u001b[0m             )\n\u001b[0;32m-> 1075\u001b[0;31m         return self._input_request(\n\u001b[0m\u001b[1;32m   1076\u001b[0m             \u001b[0mstr\u001b[0m\u001b[0;34m(\u001b[0m\u001b[0mprompt\u001b[0m\u001b[0;34m)\u001b[0m\u001b[0;34m,\u001b[0m\u001b[0;34m\u001b[0m\u001b[0;34m\u001b[0m\u001b[0m\n\u001b[1;32m   1077\u001b[0m             \u001b[0mself\u001b[0m\u001b[0;34m.\u001b[0m\u001b[0m_parent_ident\u001b[0m\u001b[0;34m[\u001b[0m\u001b[0;34m\"shell\"\u001b[0m\u001b[0;34m]\u001b[0m\u001b[0;34m,\u001b[0m\u001b[0;34m\u001b[0m\u001b[0;34m\u001b[0m\u001b[0m\n",
      "\u001b[0;32m/opt/conda/lib/python3.9/site-packages/ipykernel/kernelbase.py\u001b[0m in \u001b[0;36m_input_request\u001b[0;34m(self, prompt, ident, parent, password)\u001b[0m\n\u001b[1;32m   1118\u001b[0m             \u001b[0;32mexcept\u001b[0m \u001b[0mKeyboardInterrupt\u001b[0m\u001b[0;34m:\u001b[0m\u001b[0;34m\u001b[0m\u001b[0;34m\u001b[0m\u001b[0m\n\u001b[1;32m   1119\u001b[0m                 \u001b[0;31m# re-raise KeyboardInterrupt, to truncate traceback\u001b[0m\u001b[0;34m\u001b[0m\u001b[0;34m\u001b[0m\u001b[0m\n\u001b[0;32m-> 1120\u001b[0;31m                 \u001b[0;32mraise\u001b[0m \u001b[0mKeyboardInterrupt\u001b[0m\u001b[0;34m(\u001b[0m\u001b[0;34m\"Interrupted by user\"\u001b[0m\u001b[0;34m)\u001b[0m \u001b[0;32mfrom\u001b[0m \u001b[0;32mNone\u001b[0m\u001b[0;34m\u001b[0m\u001b[0;34m\u001b[0m\u001b[0m\n\u001b[0m\u001b[1;32m   1121\u001b[0m             \u001b[0;32mexcept\u001b[0m \u001b[0mException\u001b[0m\u001b[0;34m:\u001b[0m\u001b[0;34m\u001b[0m\u001b[0;34m\u001b[0m\u001b[0m\n\u001b[1;32m   1122\u001b[0m                 \u001b[0mself\u001b[0m\u001b[0;34m.\u001b[0m\u001b[0mlog\u001b[0m\u001b[0;34m.\u001b[0m\u001b[0mwarning\u001b[0m\u001b[0;34m(\u001b[0m\u001b[0;34m\"Invalid Message:\"\u001b[0m\u001b[0;34m,\u001b[0m \u001b[0mexc_info\u001b[0m\u001b[0;34m=\u001b[0m\u001b[0;32mTrue\u001b[0m\u001b[0;34m)\u001b[0m\u001b[0;34m\u001b[0m\u001b[0;34m\u001b[0m\u001b[0m\n",
      "\u001b[0;31mKeyboardInterrupt\u001b[0m: Interrupted by user"
     ]
    }
   ],
   "source": [
    "#proto type 오류해결 모색\n",
    "\n",
    "print('음료수 자판기 입니다')\n",
    "money_balance = 0\n",
    "total_count = 0\n",
    "while True:\n",
    "    first_page = int(input('실행할 모드를 입력하세요:'))\n",
    "    if first_page == 0:\n",
    "        break\n",
    "    elif first_page == 1:\n",
    "        drink_dic = {'환타': 1000, '콜라': 1500, '사이다': 2000}\n",
    "        drink_dic2 = [0, 1000, 1500, 2000]\n",
    "\n",
    "        i = 1\n",
    "        for k, v in drink_dic.items():\n",
    "            print(i, k, '￦', v)\n",
    "            i += 1\n",
    "    \n",
    "        money_input = input('금액을 넣어 주세요 :')\n",
    "        money_balance = money_balance + int(money_input)\n",
    "        try:\n",
    "            drink_name = int(input('음료를 골라 주세요 :'))\n",
    "            error = drink_dic2[drink_name] \n",
    "            \n",
    "            drink_count = int(input('개수를 정해 주세요 :'))\n",
    "            drink_cost = drink_dic2[drink_name]\n",
    "\n",
    "        except:\n",
    "            print('없는 메뉴입니다.')\n",
    "            drink_cost = 0\n",
    "            drink_count = 0\n",
    "        \n",
    "        net_cost = drink_cost*drink_count\n",
    "        if money_balance - net_cost >= 0:\n",
    "            money_balance = money_balance - net_cost\n",
    "            total_count = total_count + drink_count\n",
    "        else:\n",
    "            print('잔액이 부족합니다')\n",
    "            print('잔액 :', money_balance, end=' ')\n",
    "        \n",
    "    elif first_page == 2:\n",
    "        print('내가 뽑은 음료수 개수 :', total_count)\n",
    "        print('잔액 :', money_balance)\n",
    "    elif first_page == 9999:\n",
    "        pass\n",
    "    else:\n",
    "        print('다시 입력하세요')"
   ]
  },
  {
   "cell_type": "code",
   "execution_count": 1,
   "id": "67e3f571",
   "metadata": {},
   "outputs": [
    {
     "name": "stdout",
     "output_type": "stream",
     "text": [
      "음료수 자판기 입니다\n",
      "실행할 모드를 입력하세요:2\n",
      "내가 뽑은 음료수 개수 : 0\n",
      "잔액 : 0\n",
      "실행할 모드를 입력하세요:3\n",
      "다시 입력하세요\n",
      "실행할 모드를 입력하세요:1\n",
      "1 환타 ￦ 1000\n",
      "2 콜라 ￦ 1500\n",
      "3 사이다 ￦ 2000\n",
      "금액을 넣어 주세요 :10000\n",
      "음료를 골라 주세요 :4\n",
      "없는 메뉴입니다.\n",
      "실행할 모드를 입력하세요:1\n",
      "1 환타 ￦ 1000\n",
      "2 콜라 ￦ 1500\n",
      "3 사이다 ￦ 2000\n",
      "금액을 넣어 주세요 :3\n",
      "음료를 골라 주세요 :2\n",
      "개수를 정해 주세요 :2\n",
      "실행할 모드를 입력하세요:2\n",
      "내가 뽑은 음료수 개수 : 2\n",
      "잔액 : 7003\n",
      "실행할 모드를 입력하세요:1\n",
      "1 환타 ￦ 1000\n",
      "2 콜라 ￦ 1500\n",
      "3 사이다 ￦ 2000\n",
      "금액을 넣어 주세요 :1997\n",
      "음료를 골라 주세요 :3\n",
      "개수를 정해 주세요 :5\n",
      "잔액이 부족합니다\n",
      "잔액 : 9000 실행할 모드를 입력하세요:1\n",
      "1 환타 ￦ 1000\n",
      "2 콜라 ￦ 1500\n",
      "3 사이다 ￦ 2000\n",
      "금액을 넣어 주세요 :1000\n",
      "음료를 골라 주세요 :2\n",
      "개수를 정해 주세요 :3\n",
      "실행할 모드를 입력하세요:2\n",
      "내가 뽑은 음료수 개수 : 5\n",
      "잔액 : 5500\n",
      "실행할 모드를 입력하세요:1\n",
      "1 환타 ￦ 1000\n",
      "2 콜라 ￦ 1500\n",
      "3 사이다 ￦ 2000\n",
      "금액을 넣어 주세요 :0\n",
      "음료를 골라 주세요 :2\n",
      "개수를 정해 주세요 :5\n",
      "잔액이 부족합니다\n",
      "잔액 : 5500 실행할 모드를 입력하세요:1\n",
      "1 환타 ￦ 1000\n",
      "2 콜라 ￦ 1500\n",
      "3 사이다 ￦ 2000\n",
      "금액을 넣어 주세요 :0\n",
      "음료를 골라 주세요 :2\n",
      "개수를 정해 주세요 :2\n",
      "실행할 모드를 입력하세요:2\n",
      "내가 뽑은 음료수 개수 : 7\n",
      "잔액 : 2500\n",
      "실행할 모드를 입력하세요:0\n"
     ]
    }
   ],
   "source": [
    "#proto type 오류해결 모색, 1차 본(하드코딩 해결방안 모색)\n",
    "\n",
    "print('음료수 자판기 입니다')\n",
    "money_balance = 0  #\n",
    "total_count = 0\n",
    "while True:\n",
    "    first_page = int(input('실행할 모드를 입력하세요:'))\n",
    "    if first_page == 0:\n",
    "        break\n",
    "    elif first_page == 1:\n",
    "        drink_dic = {'환타': 1000, '콜라': 1500, '사이다': 2000}\n",
    "        drink_dic2 = [0, 1000, 1500, 2000]\n",
    "\n",
    "        i = 1\n",
    "        for k, v in drink_dic.items():\n",
    "            print(i, k, '￦', v)\n",
    "            i += 1\n",
    "    \n",
    "        money_input = input('금액을 넣어 주세요 :')\n",
    "        money_balance = money_balance + int(money_input)\n",
    "        try:\n",
    "            drink_name = int(input('음료를 골라 주세요 :'))\n",
    "            error = drink_dic2[drink_name] \n",
    "            \n",
    "            drink_count = int(input('개수를 정해 주세요 :'))\n",
    "            drink_cost = drink_dic2[drink_name]\n",
    "\n",
    "        except:\n",
    "            print('없는 메뉴입니다.')\n",
    "            drink_cost = 0\n",
    "            drink_count = 0\n",
    "        \n",
    "        net_cost = drink_cost*drink_count\n",
    "        if money_balance - net_cost >= 0:\n",
    "            money_balance = money_balance - net_cost\n",
    "            total_count = total_count + drink_count\n",
    "        else:\n",
    "            print('잔액이 부족합니다')\n",
    "            print('잔액 :', money_balance, end=' ')\n",
    "        \n",
    "    elif first_page == 2:\n",
    "        print('내가 뽑은 음료수 개수 :', total_count)\n",
    "        print('잔액 :', money_balance)\n",
    "    elif first_page == 9999:\n",
    "        pass\n",
    "    else:\n",
    "        print('다시 입력하세요')"
   ]
  },
  {
   "cell_type": "code",
   "execution_count": 2,
   "id": "5330cbf3",
   "metadata": {},
   "outputs": [
    {
     "ename": "SyntaxError",
     "evalue": "invalid syntax (1982350846.py, line 11)",
     "output_type": "error",
     "traceback": [
      "\u001b[0;36m  File \u001b[0;32m\"/tmp/ipykernel_304/1982350846.py\"\u001b[0;36m, line \u001b[0;32m11\u001b[0m\n\u001b[0;31m    drink_dic = {'1':{'환타': 1000}, '2':{콜라': 1500}, '3':{사이다': 2000}}\u001b[0m\n\u001b[0m                                          ^\u001b[0m\n\u001b[0;31mSyntaxError\u001b[0m\u001b[0;31m:\u001b[0m invalid syntax\n"
     ]
    }
   ],
   "source": [
    "#proto type 오류해결 모색 dic 하드코딩 변환\n",
    "\n",
    "print('음료수 자판기 입니다')\n",
    "money_balance = 0\n",
    "total_count = 0\n",
    "while True:\n",
    "    first_page = int(input('실행할 모드를 입력하세요:'))\n",
    "    if first_page == 0:\n",
    "        break\n",
    "    elif first_page == 1:\n",
    "        drink_dic = {'1':{'환타': 1000}, '2':{콜라': 1500}, '3':{사이다': 2000}}\n",
    "        drink_dic2 = [0, 1000, 1500, 2000]\n",
    "\n",
    "        i = 1\n",
    "        for k, v in drink_dic.items():\n",
    "            print(i, k, '￦', v)\n",
    "            i += 1\n",
    "    \n",
    "        money_input = input('금액을 넣어 주세요 :')\n",
    "        money_balance = money_balance + int(money_input)\n",
    "        try:\n",
    "            drink_name = int(input('음료를 골라 주세요 :'))\n",
    "            error = drink_dic2[drink_name] \n",
    "            \n",
    "            drink_count = int(input('개수를 정해 주세요 :'))\n",
    "            drink_cost = drink_dic2[drink_name]\n",
    "\n",
    "        except:\n",
    "            print('없는 메뉴입니다.')\n",
    "            drink_cost = 0\n",
    "            drink_count = 0\n",
    "        \n",
    "        net_cost = drink_cost*drink_count\n",
    "        if money_balance - net_cost >= 0:\n",
    "            money_balance = money_balance - net_cost\n",
    "            total_count = total_count + drink_count\n",
    "        else:\n",
    "            print('잔액이 부족합니다')\n",
    "            print('잔액 :', money_balance, end=' ')\n",
    "        \n",
    "    elif first_page == 2:\n",
    "        print('내가 뽑은 음료수 개수 :', total_count)\n",
    "        print('잔액 :', money_balance)\n",
    "    elif first_page == 9999:\n",
    "        pass\n",
    "    else:\n",
    "        print('다시 입력하세요')"
   ]
  },
  {
   "cell_type": "code",
   "execution_count": 5,
   "id": "1853372c",
   "metadata": {},
   "outputs": [
    {
     "ename": "SyntaxError",
     "evalue": "EOL while scanning string literal (3459374263.py, line 1)",
     "output_type": "error",
     "traceback": [
      "\u001b[0;36m  File \u001b[0;32m\"/tmp/ipykernel_304/3459374263.py\"\u001b[0;36m, line \u001b[0;32m1\u001b[0m\n\u001b[0;31m    drink_dic = {'1':{'환타': 1000}, '2':{'콜라': 1500}, '3':{사이다':2000}}\u001b[0m\n\u001b[0m                                                                     ^\u001b[0m\n\u001b[0;31mSyntaxError\u001b[0m\u001b[0;31m:\u001b[0m EOL while scanning string literal\n"
     ]
    }
   ],
   "source": [
    "drink_dic = {'1':{'환타': 1000}, '2':{'콜라': 1500}, '3':{사이다':2000}}\n",
    "drink_dic[1][1]\n",
    "    "
   ]
  },
  {
   "cell_type": "code",
   "execution_count": null,
   "id": "4983d43c",
   "metadata": {},
   "outputs": [],
   "source": []
  }
 ],
 "metadata": {
  "kernelspec": {
   "display_name": "Python 3 (ipykernel)",
   "language": "python",
   "name": "python3"
  },
  "language_info": {
   "codemirror_mode": {
    "name": "ipython",
    "version": 3
   },
   "file_extension": ".py",
   "mimetype": "text/x-python",
   "name": "python",
   "nbconvert_exporter": "python",
   "pygments_lexer": "ipython3",
   "version": "3.9.7"
  }
 },
 "nbformat": 4,
 "nbformat_minor": 5
}
